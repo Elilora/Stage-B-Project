{
  "nbformat": 4,
  "nbformat_minor": 0,
  "metadata": {
    "colab": {
      "name": "Stage B.ipynb",
      "provenance": [],
      "collapsed_sections": []
    },
    "kernelspec": {
      "name": "python3",
      "display_name": "Python 3"
    },
    "language_info": {
      "name": "python"
    }
  },
  "cells": [
    {
      "cell_type": "code",
      "execution_count": 77,
      "metadata": {
        "id": "Kw66Pf3qooZD"
      },
      "outputs": [],
      "source": [
        "import pandas as pd\n",
        "import numpy as np\n",
        "from sklearn.preprocessing import MinMaxScaler \n",
        "from google.colab import drive\n",
        "from sklearn.model_selection import train_test_split\n",
        "from sklearn.linear_model import LinearRegression, Ridge, Lasso, ElasticNet\n",
        "from datetime import datetime\n",
        "from sklearn.metrics import mean_squared_error,r2_score,mean_absolute_error, accuracy_score"
      ]
    },
    {
      "cell_type": "code",
      "source": [
        "drive.mount('/content/drive')"
      ],
      "metadata": {
        "colab": {
          "base_uri": "https://localhost:8080/"
        },
        "id": "NYDb_Y6kqOKM",
        "outputId": "db997199-84bb-43f7-e758-7a5dffe03ea3"
      },
      "execution_count": 78,
      "outputs": [
        {
          "output_type": "stream",
          "name": "stdout",
          "text": [
            "Drive already mounted at /content/drive; to attempt to forcibly remount, call drive.mount(\"/content/drive\", force_remount=True).\n"
          ]
        }
      ]
    },
    {
      "cell_type": "code",
      "source": [
        "data= pd.read_csv(\"/content/drive/MyDrive/energydata_complete.csv\")\n"
      ],
      "metadata": {
        "id": "8g_-WSUgtlRq"
      },
      "execution_count": 85,
      "outputs": []
    },
    {
      "cell_type": "markdown",
      "source": [
        "QUESTION 12"
      ],
      "metadata": {
        "id": "f11Rvif8npMf"
      }
    },
    {
      "cell_type": "code",
      "source": [
        "X1=data[\"T2\"]\n",
        "Y1=data[\"T6\"]"
      ],
      "metadata": {
        "id": "FtPHyk5iloCH"
      },
      "execution_count": 80,
      "outputs": []
    },
    {
      "cell_type": "code",
      "source": [
        "X1_train, X1_test,Y1_train,Y1_test=train_test_split(X1,Y1, test_size=0.3, random_state=1)"
      ],
      "metadata": {
        "id": "MrQNmSsitnwQ"
      },
      "execution_count": null,
      "outputs": []
    },
    {
      "cell_type": "code",
      "source": [
        "model=LinearRegression()\n",
        "model.fit(X1_train, Y1_train)\n",
        "Ypredicted1=model.predict(X1_test)"
      ],
      "metadata": {
        "id": "Y2PHQvXStnga"
      },
      "execution_count": null,
      "outputs": []
    },
    {
      "cell_type": "code",
      "source": [
        "Rsquared1=r2_score(Y1_test,Ypredicted1)\n",
        "print(round(Rsquared1,2))"
      ],
      "metadata": {
        "id": "gL7ziQ_As7lJ"
      },
      "execution_count": null,
      "outputs": []
    },
    {
      "cell_type": "code",
      "source": [
        "data.drop(columns=[\"date\"], inplace= True)\n"
      ],
      "metadata": {
        "id": "kiv4E9hc0J13"
      },
      "execution_count": 87,
      "outputs": []
    },
    {
      "cell_type": "code",
      "source": [
        "Scaler= MinMaxScaler()\n",
        "data= Scaler.fit_transform(data)\n",
        "col_names=[\"Appliances\",\"lights\",\"T1\",\"RH_1\",\"T2\",\"RH_2\",\"T3\",\"RH_3\",\"T4\",\n",
        "\"RH_4\",\"T5\",\"RH_5\",\"T6\",\"RH_6\",\"T7\",\"RH_7\",\"T8\",\"RH_8\",\"T9\",\"RH_9\",\"T_out\",\n",
        "\"Press_mm_hg\",\"RH_out\",\"Windspeed\",\"Visibility\",\"Tdewpoint\",\"rv1\",\"rv2\"]\n",
        "appliance_data= pd.DataFrame(data, columns=col_names)\n",
        "appliance_data"
      ],
      "metadata": {
        "id": "H0O2eeg0TXJM"
      },
      "execution_count": null,
      "outputs": []
    },
    {
      "cell_type": "code",
      "source": [
        "X=appliance_data.drop(columns=[\"Appliances\",\"lights\"])\n",
        "Y=appliance_data[\"Appliances\"]"
      ],
      "metadata": {
        "id": "K-CbHwA0Q1pY"
      },
      "execution_count": 89,
      "outputs": []
    },
    {
      "cell_type": "code",
      "source": [
        "X_train, X_test,Y_train,Y_test=train_test_split(X,Y, test_size=0.3, random_state=42)"
      ],
      "metadata": {
        "id": "rIwK78eNnJeL"
      },
      "execution_count": 90,
      "outputs": []
    },
    {
      "cell_type": "markdown",
      "source": [
        "QUESTION 13 "
      ],
      "metadata": {
        "id": "WIx2fN1Wnfpb"
      }
    },
    {
      "cell_type": "code",
      "source": [
        "Linear_model=LinearRegression()\n",
        "Linear_model.fit(X_train, Y_train)\n",
        "Ypredicted_Linear=Linear_model.predict(X_test)"
      ],
      "metadata": {
        "id": "HDdiv0SUn0HI"
      },
      "execution_count": 91,
      "outputs": []
    },
    {
      "cell_type": "code",
      "source": [
        "Linear_MAE=mean_absolute_error(Y_test,Ypredicted_Linear)\n",
        "print(round(Linear_MAE,2))"
      ],
      "metadata": {
        "id": "QuZCV_rrolTb"
      },
      "execution_count": null,
      "outputs": []
    },
    {
      "cell_type": "markdown",
      "source": [
        "QUESTION 14"
      ],
      "metadata": {
        "id": "i7g7CQ3Y9TW6"
      }
    },
    {
      "cell_type": "code",
      "source": [
        "Linear_RSS=np.sum(np.square(Y_test-Ypredicted_Linear))\n",
        "print(round(Linear_RSS,2))"
      ],
      "metadata": {
        "id": "7u6xB9ue9Q9X"
      },
      "execution_count": null,
      "outputs": []
    },
    {
      "cell_type": "markdown",
      "source": [
        "QUESTION 15"
      ],
      "metadata": {
        "id": "9xN6CQvI9ltK"
      }
    },
    {
      "cell_type": "code",
      "source": [
        "Linear_RMSE=mean_squared_error(Y_test,Ypredicted_Linear)\n",
        "print(round(Linear_RMSE,3))"
      ],
      "metadata": {
        "id": "FC6YFenJ9nX4"
      },
      "execution_count": null,
      "outputs": []
    },
    {
      "cell_type": "markdown",
      "source": [
        "QUESTION 16"
      ],
      "metadata": {
        "id": "0nRILNzG9uZh"
      }
    },
    {
      "cell_type": "code",
      "source": [
        "Linear_Rsquared=r2_score(Y_test,Ypredicted_Linear)\n",
        "print(round(Linear_Rsquared,2))"
      ],
      "metadata": {
        "id": "OFcFbar49xk2"
      },
      "execution_count": null,
      "outputs": []
    },
    {
      "cell_type": "markdown",
      "source": [
        "QUESTION 17"
      ],
      "metadata": {
        "id": "IPVkDuRg78RU"
      }
    },
    {
      "cell_type": "code",
      "source": [
        "Linear_coefficient=model.coef_\n",
        "print(Linear_coefficient)"
      ],
      "metadata": {
        "id": "u47da8CRt4hn"
      },
      "execution_count": null,
      "outputs": []
    },
    {
      "cell_type": "code",
      "source": [
        "def feature_weights(Coefficient, Features, column_name):\n",
        "   weights= pd.Series(Coefficient, Features.columns).sort_values()\n",
        "   weights_df=pd.DataFrame(weights).reset_index()\n",
        "   weights_df.columns=[\"Features\",column_name]\n",
        "   weights_df[column_name].round(3)\n",
        "   return weights_df\n",
        "\n",
        "\n",
        "linear_model_weights=feature_weights(Linear_coefficient,X_train, \"Linear_model_weights\")\n",
        "print(linear_model_weights)"
      ],
      "metadata": {
        "id": "jLya2Pt_uZ8m"
      },
      "execution_count": null,
      "outputs": []
    },
    {
      "cell_type": "markdown",
      "source": [
        "QUESTION 18"
      ],
      "metadata": {
        "id": "XzvNa5oxwKXv"
      }
    },
    {
      "cell_type": "code",
      "source": [
        "Ridge_model=Ridge(alpha=0.4)\n",
        "Ridge_model.fit(X_train, Y_train)\n",
        "Ypredicted=Ridge_model.predict(X_test)"
      ],
      "metadata": {
        "id": "kZA08qR96hPy"
      },
      "execution_count": null,
      "outputs": []
    },
    {
      "cell_type": "code",
      "source": [
        "Ridge_Model_RMSE=mean_squared_error(Y_test,Ypredicted)\n",
        "print(round(Ridge_Model_RMSE,3))"
      ],
      "metadata": {
        "id": "sy2R5y9kv1G-"
      },
      "execution_count": null,
      "outputs": []
    },
    {
      "cell_type": "markdown",
      "source": [
        "QUESTION 19"
      ],
      "metadata": {
        "id": "jJvw3ESRwSeQ"
      }
    },
    {
      "cell_type": "code",
      "source": [
        "Lasso_model=Lasso(alpha=0.001)\n",
        "Lasso_model.fit(X_train, Y_train)\n",
        "Ypredicted=Lasso_model.predict(X_test)"
      ],
      "metadata": {
        "id": "vBkDeNyj6htM"
      },
      "execution_count": null,
      "outputs": []
    },
    {
      "cell_type": "code",
      "source": [
        "Lasso_coefficient=Lasso_model.coef_\n",
        "print(Lasso_coefficient)"
      ],
      "metadata": {
        "id": "gmpk6eM-xLMk"
      },
      "execution_count": null,
      "outputs": []
    },
    {
      "cell_type": "code",
      "source": [
        "def feature_weights(Coefficient, Features, column_name):\n",
        "   weights= pd.Series(Coefficient, Features.columns).sort_values()\n",
        "   weights_df=pd.DataFrame(weights).reset_index()\n",
        "   weights_df.columns=[\"Features\",column_name]\n",
        "   weights_df[column_name].round(3)\n",
        "   return weights_df\n",
        "\n",
        "\n",
        "Lasso_model_weights=feature_weights(Lasso_coefficient,X_train, \"Lasso_model_weights\")\n",
        "print(Lasso_model_weights)"
      ],
      "metadata": {
        "id": "hHLhXvwyxG4h"
      },
      "execution_count": null,
      "outputs": []
    },
    {
      "cell_type": "markdown",
      "source": [
        "QUESTION 20"
      ],
      "metadata": {
        "id": "jjHNgb_F9JW8"
      }
    },
    {
      "cell_type": "code",
      "source": [
        "Lasso_Model_RMSE=mean_squared_error(Y_test,Ypredicted)\n",
        "print(round(Lasso_Model_RMSE,3))"
      ],
      "metadata": {
        "id": "rRkPcKxBtn9I"
      },
      "execution_count": null,
      "outputs": []
    }
  ]
}